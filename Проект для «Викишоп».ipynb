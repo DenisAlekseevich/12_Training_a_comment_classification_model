{
 "cells": [
  {
   "cell_type": "markdown",
   "metadata": {},
   "source": [
    "# Проект для «Викишоп»"
   ]
  },
  {
   "cell_type": "markdown",
   "metadata": {},
   "source": [
    "Интернет-магазин «Викишоп» запускает новый сервис. Теперь пользователи могут редактировать и дополнять описания товаров, как в вики-сообществах. То есть клиенты предлагают свои правки и комментируют изменения других. Магазину нужен инструмент, который будет искать токсичные комментарии и отправлять их на модерацию. \n",
    "\n",
    "Обучите модель классифицировать комментарии на позитивные и негативные. В вашем распоряжении набор данных с разметкой о токсичности правок.\n",
    "\n",
    "Постройте модель со значением метрики качества *F1* не меньше 0.75. \n",
    "\n",
    "**Инструкция по выполнению проекта**\n",
    "\n",
    "1. Загрузите и подготовьте данные.\n",
    "2. Обучите разные модели. \n",
    "3. Сделайте выводы.\n",
    "\n",
    "Для выполнения проекта применять *BERT* необязательно, но вы можете попробовать.\n",
    "\n",
    "**Описание данных**\n",
    "\n",
    "Данные находятся в файле `toxic_comments.csv`. Столбец *text* в нём содержит текст комментария, а *toxic* — целевой признак."
   ]
  },
  {
   "cell_type": "markdown",
   "metadata": {},
   "source": [
    "## Подготовка"
   ]
  },
  {
   "cell_type": "code",
   "execution_count": 1,
   "metadata": {},
   "outputs": [],
   "source": [
    "import warnings\n",
    "warnings.filterwarnings('ignore')\n",
    "import numpy as np\n",
    "import pandas as pd\n",
    "from pymystem3 import Mystem\n",
    "import re\n",
    "from sklearn.model_selection import train_test_split, cross_val_score, GridSearchCV\n",
    "import nltk\n",
    "from nltk.corpus import stopwords as nltk_stopwords\n",
    "from sklearn.feature_extraction.text import TfidfVectorizer\n",
    "from sklearn.linear_model import LogisticRegression, SGDClassifier\n",
    "from sklearn.tree import DecisionTreeClassifier\n",
    "from sklearn.utils import shuffle\n",
    "import matplotlib.pyplot as plt\n",
    "from sklearn.metrics import f1_score, precision_score, recall_score, accuracy_score, roc_auc_score, roc_curve\n"
   ]
  },
  {
   "cell_type": "code",
   "execution_count": 2,
   "metadata": {},
   "outputs": [
    {
     "name": "stdout",
     "output_type": "stream",
     "text": [
      "<class 'pandas.core.frame.DataFrame'>\n",
      "RangeIndex: 159571 entries, 0 to 159570\n",
      "Data columns (total 2 columns):\n",
      " #   Column  Non-Null Count   Dtype \n",
      "---  ------  --------------   ----- \n",
      " 0   text    159571 non-null  object\n",
      " 1   toxic   159571 non-null  int64 \n",
      "dtypes: int64(1), object(1)\n",
      "memory usage: 2.4+ MB\n"
     ]
    }
   ],
   "source": [
    "comments = pd.read_csv('/datasets/toxic_comments.csv')\n",
    "comments.info()"
   ]
  },
  {
   "cell_type": "code",
   "execution_count": 3,
   "metadata": {},
   "outputs": [
    {
     "data": {
      "text/html": [
       "<div>\n",
       "<style scoped>\n",
       "    .dataframe tbody tr th:only-of-type {\n",
       "        vertical-align: middle;\n",
       "    }\n",
       "\n",
       "    .dataframe tbody tr th {\n",
       "        vertical-align: top;\n",
       "    }\n",
       "\n",
       "    .dataframe thead th {\n",
       "        text-align: right;\n",
       "    }\n",
       "</style>\n",
       "<table border=\"1\" class=\"dataframe\">\n",
       "  <thead>\n",
       "    <tr style=\"text-align: right;\">\n",
       "      <th></th>\n",
       "      <th>text</th>\n",
       "      <th>toxic</th>\n",
       "    </tr>\n",
       "  </thead>\n",
       "  <tbody>\n",
       "    <tr>\n",
       "      <th>0</th>\n",
       "      <td>Explanation\\nWhy the edits made under my usern...</td>\n",
       "      <td>0</td>\n",
       "    </tr>\n",
       "    <tr>\n",
       "      <th>1</th>\n",
       "      <td>D'aww! He matches this background colour I'm s...</td>\n",
       "      <td>0</td>\n",
       "    </tr>\n",
       "    <tr>\n",
       "      <th>2</th>\n",
       "      <td>Hey man, I'm really not trying to edit war. It...</td>\n",
       "      <td>0</td>\n",
       "    </tr>\n",
       "    <tr>\n",
       "      <th>3</th>\n",
       "      <td>\"\\nMore\\nI can't make any real suggestions on ...</td>\n",
       "      <td>0</td>\n",
       "    </tr>\n",
       "    <tr>\n",
       "      <th>4</th>\n",
       "      <td>You, sir, are my hero. Any chance you remember...</td>\n",
       "      <td>0</td>\n",
       "    </tr>\n",
       "  </tbody>\n",
       "</table>\n",
       "</div>"
      ],
      "text/plain": [
       "                                                text  toxic\n",
       "0  Explanation\\nWhy the edits made under my usern...      0\n",
       "1  D'aww! He matches this background colour I'm s...      0\n",
       "2  Hey man, I'm really not trying to edit war. It...      0\n",
       "3  \"\\nMore\\nI can't make any real suggestions on ...      0\n",
       "4  You, sir, are my hero. Any chance you remember...      0"
      ]
     },
     "execution_count": 3,
     "metadata": {},
     "output_type": "execute_result"
    }
   ],
   "source": [
    "comments.head()"
   ]
  },
  {
   "cell_type": "code",
   "execution_count": 4,
   "metadata": {},
   "outputs": [
    {
     "data": {
      "text/plain": [
       "0    143346\n",
       "1     16225\n",
       "Name: toxic, dtype: int64"
      ]
     },
     "metadata": {},
     "output_type": "display_data"
    },
    {
     "data": {
      "text/plain": [
       "8.834884437596301"
      ]
     },
     "execution_count": 4,
     "metadata": {},
     "output_type": "execute_result"
    }
   ],
   "source": [
    "display(comments['toxic'].value_counts())\n",
    "class_ratio = comments['toxic'].value_counts()[0] / comments['toxic'].value_counts()[1]\n",
    "class_ratio"
   ]
  },
  {
   "cell_type": "markdown",
   "metadata": {},
   "source": [
    "Мы видим, что классы не сбалансированы, соотношение почти 1:9. Опробуем 2 способа балансировки и выберем лучший:\n",
    "- изменим веса классов при обучении модели;\n",
    "- ресемплируем с уменьшением класса \"0\".\n",
    "\n",
    "Подготовим признаки."
   ]
  },
  {
   "cell_type": "code",
   "execution_count": 5,
   "metadata": {},
   "outputs": [
    {
     "name": "stdout",
     "output_type": "stream",
     "text": [
      "CPU times: user 33.2 s, sys: 7.48 s, total: 40.7 s\n",
      "Wall time: 1min 28s\n"
     ]
    }
   ],
   "source": [
    "%%time\n",
    "\n",
    "m = Mystem()\n",
    "\n",
    "def lemmatize_text(text):\n",
    "    text = text.lower()\n",
    "    lemm_text = \"\".join(m.lemmatize(text))\n",
    "    cleared_text = re.sub(r'[^a-zA-Z]', ' ', lemm_text) \n",
    "    return \" \".join(cleared_text.split())\n",
    "\n",
    "comments['lemm_text'] = comments['text'].apply(lemmatize_text)\n",
    "\n",
    "comments = comments.drop(['text'], axis=1)\n",
    "del m"
   ]
  },
  {
   "cell_type": "markdown",
   "metadata": {},
   "source": [
    "Разобьем выборку по отношению 3:1:1."
   ]
  },
  {
   "cell_type": "code",
   "execution_count": 6,
   "metadata": {},
   "outputs": [
    {
     "name": "stderr",
     "output_type": "stream",
     "text": [
      "[nltk_data] Downloading package stopwords to /home/jovyan/nltk_data...\n",
      "[nltk_data]   Package stopwords is already up-to-date!\n"
     ]
    }
   ],
   "source": [
    "target = comments['toxic']\n",
    "features = comments.drop(['toxic'], axis=1)\n",
    "\n",
    "features_train, features_valid, target_train, target_valid = train_test_split(features, \n",
    "                                                                              target, \n",
    "                                                                              test_size = 0.4, \n",
    "                                                                              random_state = 12345)\n",
    "features_valid, features_test, target_valid, target_test = train_test_split(features_valid, \n",
    "                                                                            target_valid, \n",
    "                                                                            test_size = 0.5,\n",
    "                                                                            random_state = 12345)\n",
    "\n",
    "nltk.download('stopwords')\n",
    "stopwords = set(nltk_stopwords.words('english'))\n",
    "\n",
    "count_tf_idf = TfidfVectorizer(stop_words=stopwords)\n",
    "\n",
    "features_train = count_tf_idf.fit_transform(features_train['lemm_text'].values)\n",
    "features_valid = count_tf_idf.transform(features_valid['lemm_text'].values)\n",
    "features_test = count_tf_idf.transform(features_test['lemm_text'].values)"
   ]
  },
  {
   "cell_type": "code",
   "execution_count": 7,
   "metadata": {},
   "outputs": [
    {
     "name": "stdout",
     "output_type": "stream",
     "text": [
      "(95742, 126482)\n",
      "(31914, 126482)\n",
      "(31915, 126482)\n"
     ]
    }
   ],
   "source": [
    "print(features_train.shape)\n",
    "print(features_valid.shape)\n",
    "print(features_test.shape)"
   ]
  },
  {
   "cell_type": "markdown",
   "metadata": {},
   "source": [
    "Из-за размеров выборки уменьшим количество кроссвалидаций до 3-х."
   ]
  },
  {
   "cell_type": "code",
   "execution_count": 8,
   "metadata": {},
   "outputs": [],
   "source": [
    "cv_counts = 3"
   ]
  },
  {
   "cell_type": "code",
   "execution_count": 9,
   "metadata": {},
   "outputs": [
    {
     "name": "stdout",
     "output_type": "stream",
     "text": [
      "F1 на CV 0.6732751694870752\n",
      "CPU times: user 44.1 s, sys: 1min 1s, total: 1min 45s\n",
      "Wall time: 1min 46s\n"
     ]
    }
   ],
   "source": [
    "%%time\n",
    "\n",
    "classificator = LogisticRegression()\n",
    "train_f1 = cross_val_score(classificator, \n",
    "                      features_train, \n",
    "                      target_train, \n",
    "                      cv=cv_counts, \n",
    "                      scoring='f1').mean()\n",
    "print('F1 на CV', train_f1)"
   ]
  },
  {
   "cell_type": "markdown",
   "metadata": {},
   "source": [
    "### Работа с балансом классов"
   ]
  },
  {
   "cell_type": "markdown",
   "metadata": {},
   "source": [
    "#### Изменение весов классов"
   ]
  },
  {
   "cell_type": "code",
   "execution_count": 10,
   "metadata": {},
   "outputs": [
    {
     "name": "stdout",
     "output_type": "stream",
     "text": [
      "F1 на CV с балансированными классами 0.751508005539078\n",
      "CPU times: user 51.4 s, sys: 1min 7s, total: 1min 58s\n",
      "Wall time: 1min 59s\n"
     ]
    }
   ],
   "source": [
    "%%time\n",
    "\n",
    "dict_classes={0:1, 1:class_ratio}\n",
    "classificator = LogisticRegression(class_weight=dict_classes)\n",
    "train_f1_ballanced = cross_val_score(classificator, \n",
    "                                    features_train, \n",
    "                                    target_train, \n",
    "                                    cv=cv_counts, \n",
    "                                    scoring='f1').mean()\n",
    "print('F1 на CV с балансированными классами', train_f1_ballanced)"
   ]
  },
  {
   "cell_type": "code",
   "execution_count": 11,
   "metadata": {},
   "outputs": [
    {
     "name": "stdout",
     "output_type": "stream",
     "text": [
      "F1 на CV с балансированными классами 0.751508005539078\n",
      "CPU times: user 28.8 s, sys: 37.2 s, total: 1min 6s\n",
      "Wall time: 1min 6s\n"
     ]
    }
   ],
   "source": [
    "%%time\n",
    "\n",
    "classificator = LogisticRegression(class_weight='balanced')\n",
    "train_f1_balanced = cross_val_score(classificator, \n",
    "                                    features_train, \n",
    "                                    target_train, \n",
    "                                    cv=cv_counts, \n",
    "                                    scoring='f1').mean()\n",
    "print('F1 на CV с балансированными классами', train_f1_ballanced)"
   ]
  },
  {
   "cell_type": "markdown",
   "metadata": {},
   "source": [
    "Видим, что F1-мера увеличилась, а судя по скорости работы, то быстрее работает встроенные метод баланса классов."
   ]
  },
  {
   "cell_type": "markdown",
   "metadata": {},
   "source": [
    "#### Ресемплирование с уменьшением класса \"0\""
   ]
  },
  {
   "cell_type": "code",
   "execution_count": 12,
   "metadata": {},
   "outputs": [],
   "source": [
    "comments_train = comments.iloc[target_train.index]\n",
    "\n",
    "target_train_class_zero = comments_train[comments_train['toxic'] == 0]['toxic']\n",
    "target_train_class_one = comments_train[comments_train['toxic'] == 1]['toxic']"
   ]
  },
  {
   "cell_type": "code",
   "execution_count": 13,
   "metadata": {},
   "outputs": [],
   "source": [
    "target_train_class_zero_downsample = target_train_class_zero.sample(target_train_class_one.shape[0],\n",
    "                                                                    random_state = 12345)\n",
    "target_train_downsample = pd.concat([target_train_class_zero_downsample, target_train_class_one])\n",
    "\n",
    "features_train_downsample = comments.iloc[target_train_downsample.index]\n",
    "features_train_downsample, target_train_downsample = shuffle(features_train_downsample,\n",
    "                                                             target_train_downsample,\n",
    "                                                             random_state = 12345)\n",
    "\n",
    "features_train_downsample = count_tf_idf.transform(features_train_downsample['lemm_text']\n",
    "                                                   .values.astype('U'))\n",
    "del count_tf_idf\n",
    "del stopwords"
   ]
  },
  {
   "cell_type": "code",
   "execution_count": 14,
   "metadata": {},
   "outputs": [
    {
     "name": "stdout",
     "output_type": "stream",
     "text": [
      "F1 на CV с уменьшением классов 0.8792825300830076\n",
      "CPU times: user 13.3 s, sys: 18.4 s, total: 31.7 s\n",
      "Wall time: 31.7 s\n"
     ]
    }
   ],
   "source": [
    "%%time\n",
    "\n",
    "classificator = LogisticRegression()\n",
    "train_f1_downsampled = cross_val_score(classificator,\n",
    "                      features_train_downsample, \n",
    "                      target_train_downsample, \n",
    "                      cv=cv_counts, \n",
    "                      scoring='f1').mean()\n",
    "print('F1 на CV с уменьшением классов', train_f1_downsampled)"
   ]
  },
  {
   "cell_type": "markdown",
   "metadata": {},
   "source": [
    "Построим ROC-AUC графики и просмотрим таблицу результатов баллансирования."
   ]
  },
  {
   "cell_type": "code",
   "execution_count": 15,
   "metadata": {},
   "outputs": [
    {
     "data": {
      "image/png": "[encoded data removed]",
      "text/plain": [
       "<Figure size 864x648 with 1 Axes>"
      ]
     },
     "metadata": {
      "needs_background": "light"
     },
     "output_type": "display_data"
    }
   ],
   "source": [
    "plt.figure(figsize=[12,9])\n",
    "\n",
    "plt.plot([0, 1], [0, 1], linestyle='--', label='RandomModel')\n",
    "\n",
    "\n",
    "classificator = LogisticRegression()\n",
    "classificator.fit(features_train, target_train)\n",
    "probabilities_valid = classificator.predict_proba(features_valid)\n",
    "probabilities_one_valid = probabilities_valid[:, 1]\n",
    "fpr, tpr, thresholds = roc_curve(target_valid, probabilities_one_valid)\n",
    "auc_roc = roc_auc_score(target_valid, probabilities_one_valid)\n",
    "valid_f1 = f1_score(target_valid, classificator.predict(features_valid))\n",
    "plt.plot(fpr, tpr, label='LR')\n",
    "\n",
    "classificator = LogisticRegression(class_weight=dict_classes)\n",
    "classificator.fit(features_train, target_train)\n",
    "probabilities_valid = classificator.predict_proba(features_valid)\n",
    "probabilities_one_valid = probabilities_valid[:, 1]\n",
    "fpr, tpr, thresholds = roc_curve(target_valid, probabilities_one_valid)\n",
    "auc_roc_balanced = roc_auc_score(target_valid, probabilities_one_valid)\n",
    "valid_f1_balanced = f1_score(target_valid, classificator.predict(features_valid))\n",
    "plt.plot(fpr, tpr, label='LR с балансом классов')\n",
    "\n",
    "classificator = LogisticRegression()\n",
    "classificator.fit(features_train_downsample,target_train_downsample)\n",
    "probabilities_valid = classificator.predict_proba(features_valid)\n",
    "probabilities_one_valid = probabilities_valid[:, 1]\n",
    "fpr, tpr, thresholds = roc_curve(target_valid, probabilities_one_valid)\n",
    "auc_roc_downsampled = roc_auc_score(target_valid, probabilities_one_valid)\n",
    "valid_f1_downsampled = f1_score(target_valid, classificator.predict(features_valid))\n",
    "plt.plot(fpr, tpr, label='LR с ресемплированием с уменьшением класса \"0\"')\n",
    "\n",
    "plt.xlim([0,1])\n",
    "plt.ylim([0,1])\n",
    "\n",
    "plt.xlabel(\"False Positive Rate\")\n",
    "plt.ylabel(\"True Positive Rate\")\n",
    "\n",
    "plt.legend(loc='lower right', fontsize='x-large')\n",
    "\n",
    "plt.title(\"ROC-кривая\")\n",
    "plt.show()"
   ]
  },
  {
   "cell_type": "code",
   "execution_count": 16,
   "metadata": {
    "scrolled": true
   },
   "outputs": [
    {
     "data": {
      "text/html": [
       "<div>\n",
       "<style scoped>\n",
       "    .dataframe tbody tr th:only-of-type {\n",
       "        vertical-align: middle;\n",
       "    }\n",
       "\n",
       "    .dataframe tbody tr th {\n",
       "        vertical-align: top;\n",
       "    }\n",
       "\n",
       "    .dataframe thead th {\n",
       "        text-align: right;\n",
       "    }\n",
       "</style>\n",
       "<table border=\"1\" class=\"dataframe\">\n",
       "  <thead>\n",
       "    <tr style=\"text-align: right;\">\n",
       "      <th></th>\n",
       "      <th>F1 на CV</th>\n",
       "      <th>F1 на валидации</th>\n",
       "      <th>AUC-ROC</th>\n",
       "    </tr>\n",
       "  </thead>\n",
       "  <tbody>\n",
       "    <tr>\n",
       "      <th>LogisticRegression</th>\n",
       "      <td>0.673275</td>\n",
       "      <td>0.727239</td>\n",
       "      <td>0.967538</td>\n",
       "    </tr>\n",
       "    <tr>\n",
       "      <th>LR (баланс классов)</th>\n",
       "      <td>0.744431</td>\n",
       "      <td>0.763463</td>\n",
       "      <td>0.969309</td>\n",
       "    </tr>\n",
       "    <tr>\n",
       "      <th>LR (ресемплинг с уменьшением класса \"0\")</th>\n",
       "      <td>0.879283</td>\n",
       "      <td>0.695566</td>\n",
       "      <td>0.960055</td>\n",
       "    </tr>\n",
       "  </tbody>\n",
       "</table>\n",
       "</div>"
      ],
      "text/plain": [
       "                                          F1 на CV  F1 на валидации   AUC-ROC\n",
       "LogisticRegression                        0.673275         0.727239  0.967538\n",
       "LR (баланс классов)                       0.744431         0.763463  0.969309\n",
       "LR (ресемплинг с уменьшением класса \"0\")  0.879283         0.695566  0.960055"
      ]
     },
     "execution_count": 16,
     "metadata": {},
     "output_type": "execute_result"
    }
   ],
   "source": [
    "index = ['LogisticRegression',\n",
    "         'LR (баланс классов)',\n",
    "         'LR (ресемплинг с уменьшением класса \"0\")']\n",
    "data = {'F1 на CV':[train_f1,\n",
    "                    train_f1_balanced,\n",
    "                    train_f1_downsampled],\n",
    "        'F1 на валидации':[valid_f1,\n",
    "                           valid_f1_balanced,\n",
    "                           valid_f1_downsampled],\n",
    "        'AUC-ROC':[auc_roc,\n",
    "                   auc_roc_balanced,\n",
    "                   auc_roc_downsampled]}\n",
    "\n",
    "scores_data = pd.DataFrame(data=data, index=index)\n",
    "scores_data"
   ]
  },
  {
   "cell_type": "markdown",
   "metadata": {},
   "source": [
    "Остановимся на балансировке классов по весу."
   ]
  },
  {
   "cell_type": "markdown",
   "metadata": {},
   "source": [
    "### Вывод"
   ]
  },
  {
   "cell_type": "markdown",
   "metadata": {},
   "source": [
    "В ходе преподготовки были получены признаки для обучения и разделена выборка на обучающую, валидационную и тестовую.\n",
    "\n",
    "На тестировании оптимальными показателями F1 и AUC-ROC обладает классификатор, где учтен вес классов. В обучении мы будем использовать именно этот метод балансирования."
   ]
  },
  {
   "cell_type": "markdown",
   "metadata": {},
   "source": [
    "## Обучение"
   ]
  },
  {
   "cell_type": "markdown",
   "metadata": {},
   "source": [
    "Обучим следующие модели:\n",
    "\n",
    "- LogisticRegression;\n",
    "- DecisionTreeClassifier;\n",
    "- SGDClassifier."
   ]
  },
  {
   "cell_type": "markdown",
   "metadata": {},
   "source": [
    "### LogisticRegression"
   ]
  },
  {
   "cell_type": "code",
   "execution_count": 17,
   "metadata": {},
   "outputs": [
    {
     "name": "stdout",
     "output_type": "stream",
     "text": [
      "Лучшие параметры:\n",
      "\n",
      "{'C': 10, 'class_weight': {0: 1, 1: 8.834884437596301}, 'solver': 'newton-cg'}\n",
      "\n",
      "Метрика качества при различных параметрах:\n",
      "\n",
      "0.714455 for {'C': 0.1, 'class_weight': {0: 1, 1: 8.834884437596301}, 'solver': 'newton-cg'}\n",
      "0.714545 for {'C': 0.1, 'class_weight': {0: 1, 1: 8.834884437596301}, 'solver': 'lbfgs'}\n",
      "0.714455 for {'C': 0.1, 'class_weight': {0: 1, 1: 8.834884437596301}, 'solver': 'liblinear'}\n",
      "0.751426 for {'C': 1, 'class_weight': {0: 1, 1: 8.834884437596301}, 'solver': 'newton-cg'}\n",
      "0.751508 for {'C': 1, 'class_weight': {0: 1, 1: 8.834884437596301}, 'solver': 'lbfgs'}\n",
      "0.751258 for {'C': 1, 'class_weight': {0: 1, 1: 8.834884437596301}, 'solver': 'liblinear'}\n",
      "0.764921 for {'C': 10, 'class_weight': {0: 1, 1: 8.834884437596301}, 'solver': 'newton-cg'}\n",
      "0.763937 for {'C': 10, 'class_weight': {0: 1, 1: 8.834884437596301}, 'solver': 'lbfgs'}\n",
      "0.764859 for {'C': 10, 'class_weight': {0: 1, 1: 8.834884437596301}, 'solver': 'liblinear'}\n",
      "\n",
      "CPU times: user 4min 29s, sys: 5min 30s, total: 10min\n",
      "Wall time: 10min\n"
     ]
    }
   ],
   "source": [
    "%%time\n",
    "\n",
    "classificator = LogisticRegression()\n",
    "hyperparams = [{'solver':['newton-cg', 'lbfgs', 'liblinear'],\n",
    "                'C':[0.1, 1, 10],\n",
    "                'class_weight':[dict_classes]}]\n",
    "\n",
    "\n",
    "clf = GridSearchCV(classificator, hyperparams, scoring = 'f1',cv = cv_counts)\n",
    "clf.fit(features_train, target_train)\n",
    "print(\"Лучшие параметры:\")\n",
    "print()\n",
    "LR_best_params = clf.best_params_\n",
    "print(LR_best_params)\n",
    "print()\n",
    "print(\"Метрика качества при различных параметрах:\")\n",
    "print()\n",
    "means = clf.cv_results_['mean_test_score']\n",
    "stds = clf.cv_results_['std_test_score']\n",
    "for mean, std, params in zip(means, stds, clf.cv_results_['params']):\n",
    "    print(\"%0.6f for %r\"% (mean, params))\n",
    "print()\n",
    "\n",
    "cv_f1_LR = max(means)"
   ]
  },
  {
   "cell_type": "code",
   "execution_count": 18,
   "metadata": {},
   "outputs": [
    {
     "name": "stdout",
     "output_type": "stream",
     "text": [
      "F1 на cv 0.764921323455282\n",
      "F1 на валидации 0.7676588183029764\n",
      "CPU times: user 18 s, sys: 20.5 s, total: 38.6 s\n",
      "Wall time: 38.6 s\n"
     ]
    }
   ],
   "source": [
    "%%time\n",
    "\n",
    "classificator = LogisticRegression()\n",
    "classificator.set_params(**LR_best_params)\n",
    "classificator.fit(features_train, target_train)\n",
    "target_predict = classificator.predict(features_valid)\n",
    "valid_f1_LR = f1_score(target_valid, target_predict)\n",
    "print('F1 на cv', cv_f1_LR)\n",
    "print('F1 на валидации', valid_f1_LR)"
   ]
  },
  {
   "cell_type": "markdown",
   "metadata": {},
   "source": [
    "### DecisionTreeClassifier"
   ]
  },
  {
   "cell_type": "code",
   "execution_count": 19,
   "metadata": {},
   "outputs": [
    {
     "name": "stdout",
     "output_type": "stream",
     "text": [
      "Лучшие параметры:\n",
      "\n",
      "{'class_weight': {0: 1, 1: 8.834884437596301}, 'max_depth': 48, 'random_state': 12345}\n",
      "\n",
      "Метрика качества при различных параметрах:\n",
      "\n",
      "0.616734 for {'class_weight': {0: 1, 1: 8.834884437596301}, 'max_depth': 30, 'random_state': 12345}\n",
      "0.612000 for {'class_weight': {0: 1, 1: 8.834884437596301}, 'max_depth': 32, 'random_state': 12345}\n",
      "0.617521 for {'class_weight': {0: 1, 1: 8.834884437596301}, 'max_depth': 34, 'random_state': 12345}\n",
      "0.620997 for {'class_weight': {0: 1, 1: 8.834884437596301}, 'max_depth': 36, 'random_state': 12345}\n",
      "0.618405 for {'class_weight': {0: 1, 1: 8.834884437596301}, 'max_depth': 38, 'random_state': 12345}\n",
      "0.608841 for {'class_weight': {0: 1, 1: 8.834884437596301}, 'max_depth': 40, 'random_state': 12345}\n",
      "0.610390 for {'class_weight': {0: 1, 1: 8.834884437596301}, 'max_depth': 42, 'random_state': 12345}\n",
      "0.613964 for {'class_weight': {0: 1, 1: 8.834884437596301}, 'max_depth': 44, 'random_state': 12345}\n",
      "0.617732 for {'class_weight': {0: 1, 1: 8.834884437596301}, 'max_depth': 46, 'random_state': 12345}\n",
      "0.622237 for {'class_weight': {0: 1, 1: 8.834884437596301}, 'max_depth': 48, 'random_state': 12345}\n",
      "0.620257 for {'class_weight': {0: 1, 1: 8.834884437596301}, 'max_depth': 50, 'random_state': 12345}\n",
      "\n",
      "CPU times: user 10min 28s, sys: 12.3 s, total: 10min 41s\n",
      "Wall time: 10min 41s\n"
     ]
    }
   ],
   "source": [
    "%%time\n",
    "\n",
    "classificator = DecisionTreeClassifier()\n",
    "hyperparams = [{'max_depth':[x for x in range(30,51,2)],\n",
    "                'random_state':[12345],\n",
    "                'class_weight':[dict_classes]}]\n",
    "\n",
    "\n",
    "clf = GridSearchCV(classificator, hyperparams, scoring = 'f1', cv = cv_counts)\n",
    "clf.fit(features_train, target_train)\n",
    "print(\"Лучшие параметры:\")\n",
    "print()\n",
    "DTC_best_params = clf.best_params_\n",
    "print(DTC_best_params)\n",
    "print()\n",
    "print(\"Метрика качества при различных параметрах:\")\n",
    "print()\n",
    "means = clf.cv_results_['mean_test_score']\n",
    "stds = clf.cv_results_['std_test_score']\n",
    "for mean, std, params in zip(means, stds, clf.cv_results_['params']):\n",
    "    print(\"%0.6f for %r\"% (mean, params))\n",
    "print()\n",
    "\n",
    "cv_f1_DTC = max(means)"
   ]
  },
  {
   "cell_type": "code",
   "execution_count": 20,
   "metadata": {},
   "outputs": [
    {
     "name": "stdout",
     "output_type": "stream",
     "text": [
      "F1 на cv 0.6222372417342141\n",
      "F1 на валидации 0.6096675860066773\n",
      "CPU times: user 28.5 s, sys: 378 ms, total: 28.9 s\n",
      "Wall time: 28.9 s\n"
     ]
    }
   ],
   "source": [
    "%%time\n",
    "\n",
    "classificator = DecisionTreeClassifier()\n",
    "classificator.set_params(**DTC_best_params)\n",
    "classificator.fit(features_train, target_train)\n",
    "target_predict = classificator.predict(features_valid)\n",
    "valid_f1_DTC = f1_score(target_valid, target_predict)\n",
    "print('F1 на cv', cv_f1_DTC)\n",
    "print('F1 на валидации', valid_f1_DTC)"
   ]
  },
  {
   "cell_type": "markdown",
   "metadata": {},
   "source": [
    "### SGDClassifier"
   ]
  },
  {
   "cell_type": "code",
   "execution_count": 21,
   "metadata": {
    "scrolled": false
   },
   "outputs": [
    {
     "name": "stdout",
     "output_type": "stream",
     "text": [
      "Лучшие параметры:\n",
      "\n",
      "{'class_weight': {0: 1, 1: 8.834884437596301}, 'eta0': 0.5, 'learning_rate': 'adaptive', 'loss': 'modified_huber', 'random_state': 12345}\n",
      "\n",
      "Метрика качества при различных параметрах:\n",
      "\n",
      "0.738449 for {'class_weight': {0: 1, 1: 8.834884437596301}, 'eta0': 0.01, 'learning_rate': 'constant', 'loss': 'hinge', 'random_state': 12345}\n",
      "0.717600 for {'class_weight': {0: 1, 1: 8.834884437596301}, 'eta0': 0.01, 'learning_rate': 'constant', 'loss': 'log', 'random_state': 12345}\n",
      "0.752431 for {'class_weight': {0: 1, 1: 8.834884437596301}, 'eta0': 0.01, 'learning_rate': 'constant', 'loss': 'modified_huber', 'random_state': 12345}\n",
      "0.737587 for {'class_weight': {0: 1, 1: 8.834884437596301}, 'eta0': 0.01, 'learning_rate': 'optimal', 'loss': 'hinge', 'random_state': 12345}\n",
      "0.720393 for {'class_weight': {0: 1, 1: 8.834884437596301}, 'eta0': 0.01, 'learning_rate': 'optimal', 'loss': 'log', 'random_state': 12345}\n",
      "0.748816 for {'class_weight': {0: 1, 1: 8.834884437596301}, 'eta0': 0.01, 'learning_rate': 'optimal', 'loss': 'modified_huber', 'random_state': 12345}\n",
      "0.654827 for {'class_weight': {0: 1, 1: 8.834884437596301}, 'eta0': 0.01, 'learning_rate': 'invscaling', 'loss': 'hinge', 'random_state': 12345}\n",
      "0.652063 for {'class_weight': {0: 1, 1: 8.834884437596301}, 'eta0': 0.01, 'learning_rate': 'invscaling', 'loss': 'log', 'random_state': 12345}\n",
      "0.673290 for {'class_weight': {0: 1, 1: 8.834884437596301}, 'eta0': 0.01, 'learning_rate': 'invscaling', 'loss': 'modified_huber', 'random_state': 12345}\n",
      "0.739306 for {'class_weight': {0: 1, 1: 8.834884437596301}, 'eta0': 0.01, 'learning_rate': 'adaptive', 'loss': 'hinge', 'random_state': 12345}\n",
      "0.719420 for {'class_weight': {0: 1, 1: 8.834884437596301}, 'eta0': 0.01, 'learning_rate': 'adaptive', 'loss': 'log', 'random_state': 12345}\n",
      "0.757709 for {'class_weight': {0: 1, 1: 8.834884437596301}, 'eta0': 0.01, 'learning_rate': 'adaptive', 'loss': 'modified_huber', 'random_state': 12345}\n",
      "0.727659 for {'class_weight': {0: 1, 1: 8.834884437596301}, 'eta0': 0.05, 'learning_rate': 'constant', 'loss': 'hinge', 'random_state': 12345}\n",
      "0.710493 for {'class_weight': {0: 1, 1: 8.834884437596301}, 'eta0': 0.05, 'learning_rate': 'constant', 'loss': 'log', 'random_state': 12345}\n",
      "0.721127 for {'class_weight': {0: 1, 1: 8.834884437596301}, 'eta0': 0.05, 'learning_rate': 'constant', 'loss': 'modified_huber', 'random_state': 12345}\n",
      "0.737587 for {'class_weight': {0: 1, 1: 8.834884437596301}, 'eta0': 0.05, 'learning_rate': 'optimal', 'loss': 'hinge', 'random_state': 12345}\n",
      "0.720393 for {'class_weight': {0: 1, 1: 8.834884437596301}, 'eta0': 0.05, 'learning_rate': 'optimal', 'loss': 'log', 'random_state': 12345}\n",
      "0.748816 for {'class_weight': {0: 1, 1: 8.834884437596301}, 'eta0': 0.05, 'learning_rate': 'optimal', 'loss': 'modified_huber', 'random_state': 12345}\n",
      "0.693579 for {'class_weight': {0: 1, 1: 8.834884437596301}, 'eta0': 0.05, 'learning_rate': 'invscaling', 'loss': 'hinge', 'random_state': 12345}\n",
      "0.667884 for {'class_weight': {0: 1, 1: 8.834884437596301}, 'eta0': 0.05, 'learning_rate': 'invscaling', 'loss': 'log', 'random_state': 12345}\n",
      "0.675361 for {'class_weight': {0: 1, 1: 8.834884437596301}, 'eta0': 0.05, 'learning_rate': 'invscaling', 'loss': 'modified_huber', 'random_state': 12345}\n",
      "0.739722 for {'class_weight': {0: 1, 1: 8.834884437596301}, 'eta0': 0.05, 'learning_rate': 'adaptive', 'loss': 'hinge', 'random_state': 12345}\n",
      "0.721517 for {'class_weight': {0: 1, 1: 8.834884437596301}, 'eta0': 0.05, 'learning_rate': 'adaptive', 'loss': 'log', 'random_state': 12345}\n",
      "0.758299 for {'class_weight': {0: 1, 1: 8.834884437596301}, 'eta0': 0.05, 'learning_rate': 'adaptive', 'loss': 'modified_huber', 'random_state': 12345}\n",
      "0.710077 for {'class_weight': {0: 1, 1: 8.834884437596301}, 'eta0': 0.1, 'learning_rate': 'constant', 'loss': 'hinge', 'random_state': 12345}\n",
      "0.707580 for {'class_weight': {0: 1, 1: 8.834884437596301}, 'eta0': 0.1, 'learning_rate': 'constant', 'loss': 'log', 'random_state': 12345}\n",
      "0.710001 for {'class_weight': {0: 1, 1: 8.834884437596301}, 'eta0': 0.1, 'learning_rate': 'constant', 'loss': 'modified_huber', 'random_state': 12345}\n",
      "0.737587 for {'class_weight': {0: 1, 1: 8.834884437596301}, 'eta0': 0.1, 'learning_rate': 'optimal', 'loss': 'hinge', 'random_state': 12345}\n",
      "0.720393 for {'class_weight': {0: 1, 1: 8.834884437596301}, 'eta0': 0.1, 'learning_rate': 'optimal', 'loss': 'log', 'random_state': 12345}\n",
      "0.748816 for {'class_weight': {0: 1, 1: 8.834884437596301}, 'eta0': 0.1, 'learning_rate': 'optimal', 'loss': 'modified_huber', 'random_state': 12345}\n",
      "0.691888 for {'class_weight': {0: 1, 1: 8.834884437596301}, 'eta0': 0.1, 'learning_rate': 'invscaling', 'loss': 'hinge', 'random_state': 12345}\n",
      "0.669209 for {'class_weight': {0: 1, 1: 8.834884437596301}, 'eta0': 0.1, 'learning_rate': 'invscaling', 'loss': 'log', 'random_state': 12345}\n",
      "0.692423 for {'class_weight': {0: 1, 1: 8.834884437596301}, 'eta0': 0.1, 'learning_rate': 'invscaling', 'loss': 'modified_huber', 'random_state': 12345}\n",
      "0.740100 for {'class_weight': {0: 1, 1: 8.834884437596301}, 'eta0': 0.1, 'learning_rate': 'adaptive', 'loss': 'hinge', 'random_state': 12345}\n",
      "0.721794 for {'class_weight': {0: 1, 1: 8.834884437596301}, 'eta0': 0.1, 'learning_rate': 'adaptive', 'loss': 'log', 'random_state': 12345}\n",
      "0.758269 for {'class_weight': {0: 1, 1: 8.834884437596301}, 'eta0': 0.1, 'learning_rate': 'adaptive', 'loss': 'modified_huber', 'random_state': 12345}\n",
      "0.687928 for {'class_weight': {0: 1, 1: 8.834884437596301}, 'eta0': 0.2, 'learning_rate': 'constant', 'loss': 'hinge', 'random_state': 12345}\n",
      "0.687604 for {'class_weight': {0: 1, 1: 8.834884437596301}, 'eta0': 0.2, 'learning_rate': 'constant', 'loss': 'log', 'random_state': 12345}\n",
      "0.646795 for {'class_weight': {0: 1, 1: 8.834884437596301}, 'eta0': 0.2, 'learning_rate': 'constant', 'loss': 'modified_huber', 'random_state': 12345}\n",
      "0.737587 for {'class_weight': {0: 1, 1: 8.834884437596301}, 'eta0': 0.2, 'learning_rate': 'optimal', 'loss': 'hinge', 'random_state': 12345}\n",
      "0.720393 for {'class_weight': {0: 1, 1: 8.834884437596301}, 'eta0': 0.2, 'learning_rate': 'optimal', 'loss': 'log', 'random_state': 12345}\n",
      "0.748816 for {'class_weight': {0: 1, 1: 8.834884437596301}, 'eta0': 0.2, 'learning_rate': 'optimal', 'loss': 'modified_huber', 'random_state': 12345}\n",
      "0.690173 for {'class_weight': {0: 1, 1: 8.834884437596301}, 'eta0': 0.2, 'learning_rate': 'invscaling', 'loss': 'hinge', 'random_state': 12345}\n",
      "0.668711 for {'class_weight': {0: 1, 1: 8.834884437596301}, 'eta0': 0.2, 'learning_rate': 'invscaling', 'loss': 'log', 'random_state': 12345}\n",
      "0.712430 for {'class_weight': {0: 1, 1: 8.834884437596301}, 'eta0': 0.2, 'learning_rate': 'invscaling', 'loss': 'modified_huber', 'random_state': 12345}\n",
      "0.740383 for {'class_weight': {0: 1, 1: 8.834884437596301}, 'eta0': 0.2, 'learning_rate': 'adaptive', 'loss': 'hinge', 'random_state': 12345}\n",
      "0.721799 for {'class_weight': {0: 1, 1: 8.834884437596301}, 'eta0': 0.2, 'learning_rate': 'adaptive', 'loss': 'log', 'random_state': 12345}\n",
      "0.758543 for {'class_weight': {0: 1, 1: 8.834884437596301}, 'eta0': 0.2, 'learning_rate': 'adaptive', 'loss': 'modified_huber', 'random_state': 12345}\n",
      "0.670930 for {'class_weight': {0: 1, 1: 8.834884437596301}, 'eta0': 0.3, 'learning_rate': 'constant', 'loss': 'hinge', 'random_state': 12345}\n",
      "0.673838 for {'class_weight': {0: 1, 1: 8.834884437596301}, 'eta0': 0.3, 'learning_rate': 'constant', 'loss': 'log', 'random_state': 12345}\n",
      "0.571397 for {'class_weight': {0: 1, 1: 8.834884437596301}, 'eta0': 0.3, 'learning_rate': 'constant', 'loss': 'modified_huber', 'random_state': 12345}\n",
      "0.737587 for {'class_weight': {0: 1, 1: 8.834884437596301}, 'eta0': 0.3, 'learning_rate': 'optimal', 'loss': 'hinge', 'random_state': 12345}\n",
      "0.720393 for {'class_weight': {0: 1, 1: 8.834884437596301}, 'eta0': 0.3, 'learning_rate': 'optimal', 'loss': 'log', 'random_state': 12345}\n",
      "0.748816 for {'class_weight': {0: 1, 1: 8.834884437596301}, 'eta0': 0.3, 'learning_rate': 'optimal', 'loss': 'modified_huber', 'random_state': 12345}\n",
      "0.695523 for {'class_weight': {0: 1, 1: 8.834884437596301}, 'eta0': 0.3, 'learning_rate': 'invscaling', 'loss': 'hinge', 'random_state': 12345}\n",
      "0.667722 for {'class_weight': {0: 1, 1: 8.834884437596301}, 'eta0': 0.3, 'learning_rate': 'invscaling', 'loss': 'log', 'random_state': 12345}\n",
      "0.724034 for {'class_weight': {0: 1, 1: 8.834884437596301}, 'eta0': 0.3, 'learning_rate': 'invscaling', 'loss': 'modified_huber', 'random_state': 12345}\n",
      "0.740597 for {'class_weight': {0: 1, 1: 8.834884437596301}, 'eta0': 0.3, 'learning_rate': 'adaptive', 'loss': 'hinge', 'random_state': 12345}\n",
      "0.721687 for {'class_weight': {0: 1, 1: 8.834884437596301}, 'eta0': 0.3, 'learning_rate': 'adaptive', 'loss': 'log', 'random_state': 12345}\n",
      "0.757833 for {'class_weight': {0: 1, 1: 8.834884437596301}, 'eta0': 0.3, 'learning_rate': 'adaptive', 'loss': 'modified_huber', 'random_state': 12345}\n",
      "0.595954 for {'class_weight': {0: 1, 1: 8.834884437596301}, 'eta0': 0.5, 'learning_rate': 'constant', 'loss': 'hinge', 'random_state': 12345}\n",
      "0.653138 for {'class_weight': {0: 1, 1: 8.834884437596301}, 'eta0': 0.5, 'learning_rate': 'constant', 'loss': 'log', 'random_state': 12345}\n",
      "0.560037 for {'class_weight': {0: 1, 1: 8.834884437596301}, 'eta0': 0.5, 'learning_rate': 'constant', 'loss': 'modified_huber', 'random_state': 12345}\n",
      "0.737587 for {'class_weight': {0: 1, 1: 8.834884437596301}, 'eta0': 0.5, 'learning_rate': 'optimal', 'loss': 'hinge', 'random_state': 12345}\n",
      "0.720393 for {'class_weight': {0: 1, 1: 8.834884437596301}, 'eta0': 0.5, 'learning_rate': 'optimal', 'loss': 'log', 'random_state': 12345}\n",
      "0.748816 for {'class_weight': {0: 1, 1: 8.834884437596301}, 'eta0': 0.5, 'learning_rate': 'optimal', 'loss': 'modified_huber', 'random_state': 12345}\n",
      "0.705696 for {'class_weight': {0: 1, 1: 8.834884437596301}, 'eta0': 0.5, 'learning_rate': 'invscaling', 'loss': 'hinge', 'random_state': 12345}\n",
      "0.671214 for {'class_weight': {0: 1, 1: 8.834884437596301}, 'eta0': 0.5, 'learning_rate': 'invscaling', 'loss': 'log', 'random_state': 12345}\n",
      "0.734502 for {'class_weight': {0: 1, 1: 8.834884437596301}, 'eta0': 0.5, 'learning_rate': 'invscaling', 'loss': 'modified_huber', 'random_state': 12345}\n",
      "0.741165 for {'class_weight': {0: 1, 1: 8.834884437596301}, 'eta0': 0.5, 'learning_rate': 'adaptive', 'loss': 'hinge', 'random_state': 12345}\n",
      "0.721473 for {'class_weight': {0: 1, 1: 8.834884437596301}, 'eta0': 0.5, 'learning_rate': 'adaptive', 'loss': 'log', 'random_state': 12345}\n",
      "0.758750 for {'class_weight': {0: 1, 1: 8.834884437596301}, 'eta0': 0.5, 'learning_rate': 'adaptive', 'loss': 'modified_huber', 'random_state': 12345}\n",
      "\n",
      "CPU times: user 2min 31s, sys: 21.8 s, total: 2min 52s\n",
      "Wall time: 2min 52s\n"
     ]
    }
   ],
   "source": [
    "%%time\n",
    "\n",
    "classificator = SGDClassifier()\n",
    "hyperparams = [{'loss':['hinge', 'log', 'modified_huber'],\n",
    "                'learning_rate':['constant', 'optimal', 'invscaling', 'adaptive'],\n",
    "                'eta0':[0.01, 0.05, 0.1, 0.2, 0.3, 0.5],\n",
    "                'random_state':[12345],\n",
    "                'class_weight':[dict_classes]}]\n",
    "\n",
    "\n",
    "clf = GridSearchCV(classificator, hyperparams, scoring = 'f1', cv = cv_counts)\n",
    "clf.fit(features_train, target_train)\n",
    "print(\"Лучшие параметры:\")\n",
    "print()\n",
    "SGDC_best_params = clf.best_params_\n",
    "print(SGDC_best_params)\n",
    "print()\n",
    "print(\"Метрика качества при различных параметрах:\")\n",
    "print()\n",
    "means = clf.cv_results_['mean_test_score']\n",
    "stds = clf.cv_results_['std_test_score']\n",
    "for mean, std, params in zip(means, stds, clf.cv_results_['params']):\n",
    "    print(\"%0.6f for %r\"% (mean, params))\n",
    "print()\n",
    "\n",
    "cv_f1_SGDC = max(means)"
   ]
  },
  {
   "cell_type": "code",
   "execution_count": 22,
   "metadata": {},
   "outputs": [
    {
     "name": "stdout",
     "output_type": "stream",
     "text": [
      "F1 на cv 0.7587496819928928\n",
      "F1 на валидации 0.7636516381965837\n",
      "CPU times: user 1.55 s, sys: 92.2 ms, total: 1.64 s\n",
      "Wall time: 1.65 s\n"
     ]
    }
   ],
   "source": [
    "%%time\n",
    "\n",
    "classificator = SGDClassifier()\n",
    "classificator.set_params(**SGDC_best_params)\n",
    "classificator.fit(features_train, target_train)\n",
    "target_predict = classificator.predict(features_valid)\n",
    "valid_f1_SGDC = f1_score(target_valid, target_predict)\n",
    "print('F1 на cv', cv_f1_SGDC)\n",
    "print('F1 на валидации', valid_f1_SGDC)"
   ]
  },
  {
   "cell_type": "markdown",
   "metadata": {},
   "source": [
    "### Итог"
   ]
  },
  {
   "cell_type": "code",
   "execution_count": 23,
   "metadata": {},
   "outputs": [
    {
     "data": {
      "text/html": [
       "<div>\n",
       "<style scoped>\n",
       "    .dataframe tbody tr th:only-of-type {\n",
       "        vertical-align: middle;\n",
       "    }\n",
       "\n",
       "    .dataframe tbody tr th {\n",
       "        vertical-align: top;\n",
       "    }\n",
       "\n",
       "    .dataframe thead th {\n",
       "        text-align: right;\n",
       "    }\n",
       "</style>\n",
       "<table border=\"1\" class=\"dataframe\">\n",
       "  <thead>\n",
       "    <tr style=\"text-align: right;\">\n",
       "      <th></th>\n",
       "      <th>F1 на CV</th>\n",
       "      <th>F1 на валидации</th>\n",
       "      <th>Выполнение задачи</th>\n",
       "    </tr>\n",
       "  </thead>\n",
       "  <tbody>\n",
       "    <tr>\n",
       "      <th>LogisticRegression</th>\n",
       "      <td>0.764921</td>\n",
       "      <td>0.767659</td>\n",
       "      <td>True</td>\n",
       "    </tr>\n",
       "    <tr>\n",
       "      <th>DecisionTreeClassifier</th>\n",
       "      <td>0.622237</td>\n",
       "      <td>0.609668</td>\n",
       "      <td>False</td>\n",
       "    </tr>\n",
       "    <tr>\n",
       "      <th>SGDClassifier</th>\n",
       "      <td>0.758750</td>\n",
       "      <td>0.763652</td>\n",
       "      <td>True</td>\n",
       "    </tr>\n",
       "  </tbody>\n",
       "</table>\n",
       "</div>"
      ],
      "text/plain": [
       "                        F1 на CV  F1 на валидации  Выполнение задачи\n",
       "LogisticRegression      0.764921         0.767659               True\n",
       "DecisionTreeClassifier  0.622237         0.609668              False\n",
       "SGDClassifier           0.758750         0.763652               True"
      ]
     },
     "execution_count": 23,
     "metadata": {},
     "output_type": "execute_result"
    }
   ],
   "source": [
    "index = ['LogisticRegression',\n",
    "         'DecisionTreeClassifier',\n",
    "         'SGDClassifier']\n",
    "data = {'F1 на CV':[cv_f1_LR,\n",
    "                    cv_f1_DTC,\n",
    "                    cv_f1_SGDC],\n",
    "        'F1 на валидации':[valid_f1_LR,\n",
    "                           valid_f1_DTC,\n",
    "                           valid_f1_SGDC]}\n",
    "\n",
    "scores_data = pd.DataFrame(data=data, index=index)\n",
    "scores_data['Выполнение задачи'] = scores_data['F1 на валидации'] > 0.75\n",
    "scores_data"
   ]
  },
  {
   "cell_type": "markdown",
   "metadata": {},
   "source": [
    "### Вывод"
   ]
  },
  {
   "cell_type": "markdown",
   "metadata": {},
   "source": [
    "Из обученных моделей рубеж F1-метрики в 0,75 прошли LogisticRegression и SGDClassifier."
   ]
  },
  {
   "cell_type": "markdown",
   "metadata": {},
   "source": [
    "## Выводы"
   ]
  },
  {
   "cell_type": "markdown",
   "metadata": {},
   "source": [
    "Проведем получение F1-меры, precision, recall, accuracy и roc_auc. Так же построим графики."
   ]
  },
  {
   "cell_type": "code",
   "execution_count": 24,
   "metadata": {},
   "outputs": [
    {
     "name": "stdout",
     "output_type": "stream",
     "text": [
      "Метрики LogisticRegression\n",
      "ROC AUC: 0.9644859975874468\n",
      "F1: 0.7646619907476495\n",
      "Precision: 0.733887138355772\n",
      "Recall: 0.7981308411214953\n",
      "Accuracy: 0.9505874980416732\n",
      "\n",
      "Метрики SGDClassifier\n",
      "ROC AUC: 0.969185603254939\n",
      "F1: 0.7575928008998876\n",
      "Precision: 0.690415171706817\n",
      "Recall: 0.8392523364485981\n",
      "Accuracy: 0.9459815133949554\n",
      "\n"
     ]
    },
    {
     "data": {
      "image/png": "[encoded data removed]",
      "text/plain": [
       "<Figure size 864x648 with 1 Axes>"
      ]
     },
     "metadata": {
      "needs_background": "light"
     },
     "output_type": "display_data"
    }
   ],
   "source": [
    "plt.figure(figsize=[12,9])\n",
    "\n",
    "plt.plot([0, 1], [0, 1], linestyle='--', label='RandomModel')\n",
    "\n",
    "\n",
    "classificator = LogisticRegression()\n",
    "classificator.set_params(**LR_best_params)\n",
    "classificator.fit(features_train, target_train)\n",
    "probabilities_test = classificator.predict_proba(features_test)\n",
    "probabilities_one_test = probabilities_test[:, 1]\n",
    "fpr, tpr, thresholds = roc_curve(target_test, probabilities_one_test)\n",
    "predict_test = classificator.predict(features_test)\n",
    "plt.plot(fpr, tpr, label='LogisticRegression')\n",
    "print('Метрики LogisticRegression')\n",
    "print('ROC AUC:', roc_auc_score(target_test, probabilities_one_test))\n",
    "print('F1:', f1_score(target_test, predict_test))\n",
    "print('Precision:', precision_score(target_test, predict_test))\n",
    "print('Recall:', recall_score(target_test, predict_test))\n",
    "print('Accuracy:', accuracy_score(target_test, predict_test))\n",
    "print()\n",
    "\n",
    "classificator = SGDClassifier()\n",
    "classificator.set_params(**SGDC_best_params)\n",
    "classificator.fit(features_train, target_train)\n",
    "probabilities_test = classificator.predict_proba(features_test)\n",
    "probabilities_one_test = probabilities_test[:, 1]\n",
    "fpr, tpr, thresholds = roc_curve(target_test, probabilities_one_test)\n",
    "predict_test = classificator.predict(features_test)\n",
    "plt.plot(fpr, tpr, label='SGDClassifier')\n",
    "print('Метрики SGDClassifier')\n",
    "print('ROC AUC:', roc_auc_score(target_test, probabilities_one_test))\n",
    "print('F1:', f1_score(target_test, predict_test))\n",
    "print('Precision:', precision_score(target_test, predict_test))\n",
    "print('Recall:', recall_score(target_test, predict_test))\n",
    "print('Accuracy:', accuracy_score(target_test, predict_test))\n",
    "print()\n",
    "\n",
    "plt.xlim([0,1])\n",
    "plt.ylim([0,1])\n",
    "\n",
    "plt.xlabel(\"False Positive Rate\")\n",
    "plt.ylabel(\"True Positive Rate\")\n",
    "\n",
    "plt.legend(loc='lower right', fontsize='x-large')\n",
    "\n",
    "plt.title(\"ROC-кривая\")\n",
    "plt.show()"
   ]
  },
  {
   "cell_type": "markdown",
   "metadata": {},
   "source": [
    "### Итоговый вывод"
   ]
  },
  {
   "cell_type": "markdown",
   "metadata": {},
   "source": [
    "В ходе работы над проектом было сделано:\n",
    "\n",
    "- подготовленны данные обучения на моделях;\n",
    "- выбран способ баланса классов и поделены данные на обучающую, валидационную и тестовою выборку;\n",
    "- обучены модели и выбраны лучшие из них на валидационной выборке;\n",
    "- показаны параметры качества моделей.\n",
    "\n",
    "Исходные данные обладают большим количеством признаков. Созданных столбцов больше, чем записей данных. Так как TF-IDF превращают текст в численные значения, лучшими моделями стали LogisticRegression и SGDClassifier.\n",
    "\n",
    "На тестовой выбоке по метрике F1 лучше всего себя показал LogisticRegression всего на 0.07. Данная модель обладает больними показателями Precision и Accuracy. Это говорит нам, что токсичные комментарии находятся лучше.\n",
    "\n",
    "SGDClassifier показал себя лучше в ROC AUC и Recall метриках. Модель способна обработать больше записей."
   ]
  }
 ],
 "metadata": {
  "ExecuteTimeLog": [
   {
    "duration": 572,
    "start_time": "2021-11-29T11:09:11.786Z"
   },
   {
    "duration": 3206,
    "start_time": "2021-11-29T11:09:35.970Z"
   },
   {
    "duration": 14,
    "start_time": "2021-11-29T11:09:59.116Z"
   },
   {
    "duration": 12,
    "start_time": "2021-11-29T11:12:41.045Z"
   },
   {
    "duration": 7,
    "start_time": "2021-11-29T11:12:55.646Z"
   },
   {
    "duration": 11,
    "start_time": "2021-11-29T11:13:34.760Z"
   },
   {
    "duration": 812,
    "start_time": "2021-11-29T18:30:39.444Z"
   },
   {
    "duration": 4,
    "start_time": "2021-11-29T18:30:48.742Z"
   },
   {
    "duration": 9219,
    "start_time": "2021-11-29T18:30:50.320Z"
   },
   {
    "duration": 18,
    "start_time": "2021-11-29T18:30:59.542Z"
   },
   {
    "duration": 24,
    "start_time": "2021-11-29T18:30:59.563Z"
   },
   {
    "duration": 327,
    "start_time": "2021-11-29T18:30:59.589Z"
   },
   {
    "duration": 2507,
    "start_time": "2021-11-29T18:31:33.829Z"
   },
   {
    "duration": 4,
    "start_time": "2021-11-29T18:32:12.945Z"
   },
   {
    "duration": 165034,
    "start_time": "2021-11-29T18:32:25.438Z"
   },
   {
    "duration": 590,
    "start_time": "2021-11-29T18:38:36.046Z"
   },
   {
    "duration": 529,
    "start_time": "2021-11-29T18:39:35.810Z"
   },
   {
    "duration": 239,
    "start_time": "2021-11-29T18:40:17.891Z"
   },
   {
    "duration": 882,
    "start_time": "2021-11-29T18:40:25.321Z"
   },
   {
    "duration": 5,
    "start_time": "2021-11-29T18:40:56.729Z"
   },
   {
    "duration": 18450,
    "start_time": "2021-11-29T18:41:02.428Z"
   },
   {
    "duration": 6,
    "start_time": "2021-11-29T18:42:12.756Z"
   },
   {
    "duration": 3,
    "start_time": "2021-11-29T18:44:33.959Z"
   },
   {
    "duration": 251,
    "start_time": "2021-11-29T18:45:06.120Z"
   },
   {
    "duration": 6,
    "start_time": "2021-11-29T18:45:41.403Z"
   },
   {
    "duration": 24281,
    "start_time": "2021-11-29T18:45:51.020Z"
   },
   {
    "duration": 288,
    "start_time": "2021-11-29T18:47:52.194Z"
   },
   {
    "duration": 24,
    "start_time": "2021-11-29T18:48:59.367Z"
   },
   {
    "duration": 41254,
    "start_time": "2021-11-29T18:49:06.748Z"
   },
   {
    "duration": 33028,
    "start_time": "2021-11-29T18:50:44.374Z"
   },
   {
    "duration": 32,
    "start_time": "2021-11-29T18:56:01.878Z"
   },
   {
    "duration": 487,
    "start_time": "2021-11-29T18:57:17.210Z"
   },
   {
    "duration": 5,
    "start_time": "2021-11-29T18:57:44.483Z"
   },
   {
    "duration": 1827,
    "start_time": "2021-11-29T18:57:54.085Z"
   },
   {
    "duration": 8227,
    "start_time": "2021-11-29T18:58:32.244Z"
   },
   {
    "duration": 8391,
    "start_time": "2021-11-29T18:58:57.278Z"
   },
   {
    "duration": 362,
    "start_time": "2021-11-29T19:04:24.497Z"
   },
   {
    "duration": 128,
    "start_time": "2021-11-29T19:04:55.602Z"
   },
   {
    "duration": 8689,
    "start_time": "2021-11-29T19:05:02.784Z"
   },
   {
    "duration": 6,
    "start_time": "2021-11-29T19:05:35.660Z"
   },
   {
    "duration": 27641,
    "start_time": "2021-11-29T19:05:45.983Z"
   },
   {
    "duration": 27674,
    "start_time": "2021-11-29T19:07:28.360Z"
   },
   {
    "duration": 13,
    "start_time": "2021-11-29T19:09:43.869Z"
   },
   {
    "duration": 1792,
    "start_time": "2021-11-30T08:40:07.867Z"
   },
   {
    "duration": 6,
    "start_time": "2021-11-30T08:40:20.582Z"
   },
   {
    "duration": 942,
    "start_time": "2021-11-30T08:40:21.513Z"
   },
   {
    "duration": 14,
    "start_time": "2021-11-30T08:40:23.513Z"
   },
   {
    "duration": 19,
    "start_time": "2021-11-30T08:40:24.888Z"
   },
   {
    "duration": 169647,
    "start_time": "2021-11-30T08:40:26.997Z"
   },
   {
    "duration": 18231,
    "start_time": "2021-11-30T08:43:16.647Z"
   },
   {
    "duration": 5,
    "start_time": "2021-11-30T08:43:34.881Z"
   },
   {
    "duration": 4,
    "start_time": "2021-11-30T08:43:34.901Z"
   },
   {
    "duration": 25841,
    "start_time": "2021-11-30T08:43:34.907Z"
   },
   {
    "duration": 43988,
    "start_time": "2021-11-30T08:44:00.750Z"
   },
   {
    "duration": 35006,
    "start_time": "2021-11-30T08:44:44.740Z"
   },
   {
    "duration": 31,
    "start_time": "2021-11-30T08:45:19.750Z"
   },
   {
    "duration": 1946,
    "start_time": "2021-11-30T08:45:19.801Z"
   },
   {
    "duration": 10455,
    "start_time": "2021-11-30T08:45:21.749Z"
   },
   {
    "duration": 29798,
    "start_time": "2021-11-30T08:45:32.207Z"
   },
   {
    "duration": 20,
    "start_time": "2021-11-30T08:46:02.009Z"
   },
   {
    "duration": 792269,
    "start_time": "2021-11-30T08:47:44.584Z"
   },
   {
    "duration": 45812,
    "start_time": "2021-11-30T09:00:56.856Z"
   },
   {
    "duration": 1050991,
    "start_time": "2021-11-30T09:01:42.671Z"
   },
   {
    "duration": 46440,
    "start_time": "2021-11-30T09:19:13.665Z"
   },
   {
    "duration": 269605,
    "start_time": "2021-11-30T09:20:00.108Z"
   },
   {
    "duration": 2419,
    "start_time": "2021-11-30T09:24:29.716Z"
   },
   {
    "duration": 15,
    "start_time": "2021-11-30T09:24:32.137Z"
   },
   {
    "duration": 49994,
    "start_time": "2021-11-30T09:40:54.253Z"
   },
   {
    "duration": 1791,
    "start_time": "2021-11-30T09:45:16.978Z"
   },
   {
    "duration": 836,
    "start_time": "2021-11-30T09:45:18.772Z"
   },
   {
    "duration": 15,
    "start_time": "2021-11-30T09:45:19.612Z"
   },
   {
    "duration": 30,
    "start_time": "2021-11-30T09:45:19.631Z"
   },
   {
    "duration": 166912,
    "start_time": "2021-11-30T09:45:19.664Z"
   },
   {
    "duration": 18306,
    "start_time": "2021-11-30T09:48:06.579Z"
   },
   {
    "duration": 14,
    "start_time": "2021-11-30T09:48:24.887Z"
   },
   {
    "duration": 5,
    "start_time": "2021-11-30T09:48:24.905Z"
   },
   {
    "duration": 24328,
    "start_time": "2021-11-30T09:48:24.913Z"
   },
   {
    "duration": 43524,
    "start_time": "2021-11-30T09:48:49.244Z"
   },
   {
    "duration": 33276,
    "start_time": "2021-11-30T09:49:32.770Z"
   },
   {
    "duration": 32,
    "start_time": "2021-11-30T09:50:06.049Z"
   },
   {
    "duration": 2053,
    "start_time": "2021-11-30T09:50:06.101Z"
   },
   {
    "duration": 9456,
    "start_time": "2021-11-30T09:50:08.157Z"
   },
   {
    "duration": 31697,
    "start_time": "2021-11-30T09:50:17.615Z"
   },
   {
    "duration": 14,
    "start_time": "2021-11-30T09:50:49.315Z"
   },
   {
    "duration": 843058,
    "start_time": "2021-11-30T09:50:49.332Z"
   },
   {
    "duration": 48773,
    "start_time": "2021-11-30T10:04:52.394Z"
   },
   {
    "duration": 1053274,
    "start_time": "2021-11-30T10:05:41.170Z"
   },
   {
    "duration": 47003,
    "start_time": "2021-11-30T10:23:14.446Z"
   },
   {
    "duration": 257332,
    "start_time": "2021-11-30T10:24:01.451Z"
   },
   {
    "duration": 2661,
    "start_time": "2021-11-30T10:28:18.785Z"
   },
   {
    "duration": 15,
    "start_time": "2021-11-30T10:28:21.450Z"
   },
   {
    "duration": 50388,
    "start_time": "2021-11-30T10:28:21.468Z"
   },
   {
    "duration": 1534,
    "start_time": "2022-07-22T11:46:07.147Z"
   },
   {
    "duration": 4,
    "start_time": "2022-07-22T11:47:19.371Z"
   },
   {
    "duration": 1584,
    "start_time": "2022-07-29T10:59:07.054Z"
   },
   {
    "duration": 2985,
    "start_time": "2022-07-29T10:59:08.640Z"
   },
   {
    "duration": 10,
    "start_time": "2022-07-29T10:59:11.626Z"
   },
   {
    "duration": 12,
    "start_time": "2022-07-29T10:59:11.637Z"
   },
   {
    "duration": 84003,
    "start_time": "2022-07-29T10:59:11.650Z"
   },
   {
    "duration": 10901,
    "start_time": "2022-07-29T11:00:35.655Z"
   },
   {
    "duration": 3,
    "start_time": "2022-07-29T11:00:46.557Z"
   },
   {
    "duration": 8,
    "start_time": "2022-07-29T11:00:46.562Z"
   },
   {
    "duration": 90531,
    "start_time": "2022-07-29T11:00:46.571Z"
   },
   {
    "duration": 102508,
    "start_time": "2022-07-29T11:02:17.104Z"
   },
   {
    "duration": 57008,
    "start_time": "2022-07-29T11:03:59.614Z"
   },
   {
    "duration": 80,
    "start_time": "2022-07-29T11:04:56.624Z"
   },
   {
    "duration": 1217,
    "start_time": "2022-07-29T11:04:56.706Z"
   },
   {
    "duration": 30177,
    "start_time": "2022-07-29T11:04:57.925Z"
   },
   {
    "duration": 87880,
    "start_time": "2022-07-29T11:05:28.104Z"
   },
   {
    "duration": 9,
    "start_time": "2022-07-29T11:06:55.985Z"
   },
   {
    "duration": 473468,
    "start_time": "2022-07-29T11:06:55.995Z"
   },
   {
    "duration": 27177,
    "start_time": "2022-07-29T11:14:49.464Z"
   },
   {
    "duration": 573470,
    "start_time": "2022-07-29T11:15:16.643Z"
   },
   {
    "duration": 26808,
    "start_time": "2022-07-29T11:24:50.115Z"
   },
   {
    "duration": 164691,
    "start_time": "2022-07-29T11:25:16.925Z"
   },
   {
    "duration": 1656,
    "start_time": "2022-07-29T11:28:01.617Z"
   },
   {
    "duration": 10,
    "start_time": "2022-07-29T11:28:03.274Z"
   },
   {
    "duration": 30409,
    "start_time": "2022-07-29T11:28:03.285Z"
   },
   {
    "duration": 1974,
    "start_time": "2022-07-29T17:15:03.427Z"
   },
   {
    "duration": 4351,
    "start_time": "2022-07-29T17:15:05.403Z"
   },
   {
    "duration": 12,
    "start_time": "2022-07-29T17:15:09.756Z"
   },
   {
    "duration": 13,
    "start_time": "2022-07-29T17:15:09.770Z"
   },
   {
    "duration": 1741,
    "start_time": "2022-07-30T08:18:33.078Z"
   },
   {
    "duration": 2964,
    "start_time": "2022-07-30T08:18:34.821Z"
   },
   {
    "duration": 11,
    "start_time": "2022-07-30T08:18:37.787Z"
   },
   {
    "duration": 15,
    "start_time": "2022-07-30T08:18:37.799Z"
   },
   {
    "duration": 102864,
    "start_time": "2022-07-30T08:18:37.829Z"
   },
   {
    "duration": 12303,
    "start_time": "2022-07-30T08:20:20.695Z"
   },
   {
    "duration": 4,
    "start_time": "2022-07-30T08:20:32.999Z"
   },
   {
    "duration": 6,
    "start_time": "2022-07-30T08:20:33.005Z"
   },
   {
    "duration": 123217,
    "start_time": "2022-07-30T08:20:33.024Z"
   },
   {
    "duration": 133797,
    "start_time": "2022-07-30T08:22:36.242Z"
   },
   {
    "duration": 76907,
    "start_time": "2022-07-30T08:24:50.041Z"
   },
   {
    "duration": 102,
    "start_time": "2022-07-30T08:26:06.950Z"
   },
   {
    "duration": 1426,
    "start_time": "2022-07-30T08:26:07.054Z"
   },
   {
    "duration": 40348,
    "start_time": "2022-07-30T08:26:08.483Z"
   },
   {
    "duration": 111728,
    "start_time": "2022-07-30T08:26:48.833Z"
   },
   {
    "duration": 14,
    "start_time": "2022-07-30T08:28:40.564Z"
   },
   {
    "duration": 602384,
    "start_time": "2022-07-30T08:28:40.579Z"
   },
   {
    "duration": 32918,
    "start_time": "2022-07-30T08:38:42.965Z"
   },
   {
    "duration": 703683,
    "start_time": "2022-07-30T08:39:15.885Z"
   },
   {
    "duration": 32690,
    "start_time": "2022-07-30T08:50:59.570Z"
   },
   {
    "duration": 186606,
    "start_time": "2022-07-30T08:51:32.263Z"
   },
   {
    "duration": 1860,
    "start_time": "2022-07-30T08:54:38.871Z"
   },
   {
    "duration": 14,
    "start_time": "2022-07-30T08:54:40.733Z"
   },
   {
    "duration": 34705,
    "start_time": "2022-07-30T08:54:40.749Z"
   },
   {
    "duration": 1692,
    "start_time": "2022-08-01T11:05:38.244Z"
   },
   {
    "duration": 2275,
    "start_time": "2022-08-01T11:05:39.938Z"
   },
   {
    "duration": 10,
    "start_time": "2022-08-01T11:05:42.215Z"
   },
   {
    "duration": 12,
    "start_time": "2022-08-01T11:05:42.226Z"
   },
   {
    "duration": 87843,
    "start_time": "2022-08-01T11:05:42.240Z"
   },
   {
    "duration": 64,
    "start_time": "2022-08-01T11:07:10.085Z"
   },
   {
    "duration": 0,
    "start_time": "2022-08-01T11:07:10.151Z"
   },
   {
    "duration": 0,
    "start_time": "2022-08-01T11:07:10.152Z"
   },
   {
    "duration": 1,
    "start_time": "2022-08-01T11:07:10.152Z"
   },
   {
    "duration": 0,
    "start_time": "2022-08-01T11:07:10.153Z"
   },
   {
    "duration": 0,
    "start_time": "2022-08-01T11:07:10.155Z"
   },
   {
    "duration": 0,
    "start_time": "2022-08-01T11:07:10.156Z"
   },
   {
    "duration": 0,
    "start_time": "2022-08-01T11:07:10.157Z"
   },
   {
    "duration": 0,
    "start_time": "2022-08-01T11:07:10.158Z"
   },
   {
    "duration": 0,
    "start_time": "2022-08-01T11:07:10.159Z"
   },
   {
    "duration": 0,
    "start_time": "2022-08-01T11:07:10.160Z"
   },
   {
    "duration": 0,
    "start_time": "2022-08-01T11:07:10.161Z"
   },
   {
    "duration": 0,
    "start_time": "2022-08-01T11:07:10.161Z"
   },
   {
    "duration": 0,
    "start_time": "2022-08-01T11:07:10.162Z"
   },
   {
    "duration": 0,
    "start_time": "2022-08-01T11:07:10.163Z"
   },
   {
    "duration": 0,
    "start_time": "2022-08-01T11:07:10.164Z"
   },
   {
    "duration": 0,
    "start_time": "2022-08-01T11:07:10.165Z"
   },
   {
    "duration": 0,
    "start_time": "2022-08-01T11:07:10.166Z"
   },
   {
    "duration": 0,
    "start_time": "2022-08-01T11:07:10.167Z"
   },
   {
    "duration": 114,
    "start_time": "2022-08-01T11:10:21.089Z"
   },
   {
    "duration": 6562,
    "start_time": "2022-08-01T11:11:21.693Z"
   },
   {
    "duration": 1500,
    "start_time": "2022-08-01T11:14:11.520Z"
   },
   {
    "duration": 841,
    "start_time": "2022-08-01T11:14:13.022Z"
   },
   {
    "duration": 9,
    "start_time": "2022-08-01T11:14:13.864Z"
   },
   {
    "duration": 14,
    "start_time": "2022-08-01T11:14:13.875Z"
   },
   {
    "duration": 90550,
    "start_time": "2022-08-01T11:14:13.891Z"
   },
   {
    "duration": 122,
    "start_time": "2022-08-01T11:15:44.443Z"
   },
   {
    "duration": 0,
    "start_time": "2022-08-01T11:15:44.566Z"
   },
   {
    "duration": 0,
    "start_time": "2022-08-01T11:15:44.568Z"
   },
   {
    "duration": 0,
    "start_time": "2022-08-01T11:15:44.570Z"
   },
   {
    "duration": 0,
    "start_time": "2022-08-01T11:15:44.571Z"
   },
   {
    "duration": 0,
    "start_time": "2022-08-01T11:15:44.572Z"
   },
   {
    "duration": 0,
    "start_time": "2022-08-01T11:15:44.573Z"
   },
   {
    "duration": 0,
    "start_time": "2022-08-01T11:15:44.574Z"
   },
   {
    "duration": 0,
    "start_time": "2022-08-01T11:15:44.575Z"
   },
   {
    "duration": 0,
    "start_time": "2022-08-01T11:15:44.576Z"
   },
   {
    "duration": 0,
    "start_time": "2022-08-01T11:15:44.577Z"
   },
   {
    "duration": 0,
    "start_time": "2022-08-01T11:15:44.578Z"
   },
   {
    "duration": 0,
    "start_time": "2022-08-01T11:15:44.579Z"
   },
   {
    "duration": 0,
    "start_time": "2022-08-01T11:15:44.580Z"
   },
   {
    "duration": 0,
    "start_time": "2022-08-01T11:15:44.581Z"
   },
   {
    "duration": 0,
    "start_time": "2022-08-01T11:15:44.582Z"
   },
   {
    "duration": 0,
    "start_time": "2022-08-01T11:15:44.583Z"
   },
   {
    "duration": 0,
    "start_time": "2022-08-01T11:15:44.584Z"
   },
   {
    "duration": 0,
    "start_time": "2022-08-01T11:15:44.586Z"
   },
   {
    "duration": 0,
    "start_time": "2022-08-01T11:15:44.587Z"
   },
   {
    "duration": 1458,
    "start_time": "2022-08-01T11:16:01.350Z"
   },
   {
    "duration": 860,
    "start_time": "2022-08-01T11:16:02.810Z"
   },
   {
    "duration": 10,
    "start_time": "2022-08-01T11:16:03.671Z"
   },
   {
    "duration": 20,
    "start_time": "2022-08-01T11:16:03.683Z"
   },
   {
    "duration": 88355,
    "start_time": "2022-08-01T11:16:03.705Z"
   },
   {
    "duration": 6924,
    "start_time": "2022-08-01T11:17:32.062Z"
   },
   {
    "duration": 4,
    "start_time": "2022-08-01T11:17:38.989Z"
   },
   {
    "duration": 14,
    "start_time": "2022-08-01T11:17:38.995Z"
   },
   {
    "duration": 106126,
    "start_time": "2022-08-01T11:17:39.011Z"
   },
   {
    "duration": 119098,
    "start_time": "2022-08-01T11:19:25.139Z"
   },
   {
    "duration": 66198,
    "start_time": "2022-08-01T11:21:24.240Z"
   },
   {
    "duration": 29,
    "start_time": "2022-08-01T11:22:30.440Z"
   },
   {
    "duration": 1300,
    "start_time": "2022-08-01T11:22:30.471Z"
   },
   {
    "duration": 31763,
    "start_time": "2022-08-01T11:22:31.774Z"
   },
   {
    "duration": 100188,
    "start_time": "2022-08-01T11:23:03.539Z"
   },
   {
    "duration": 13,
    "start_time": "2022-08-01T11:24:43.728Z"
   },
   {
    "duration": 600939,
    "start_time": "2022-08-01T11:24:43.742Z"
   },
   {
    "duration": 38606,
    "start_time": "2022-08-01T11:34:44.683Z"
   },
   {
    "duration": 641404,
    "start_time": "2022-08-01T11:35:23.290Z"
   },
   {
    "duration": 28871,
    "start_time": "2022-08-01T11:46:04.696Z"
   },
   {
    "duration": 172996,
    "start_time": "2022-08-01T11:46:33.569Z"
   },
   {
    "duration": 1656,
    "start_time": "2022-08-01T11:49:26.567Z"
   },
   {
    "duration": 12,
    "start_time": "2022-08-01T11:49:28.225Z"
   },
   {
    "duration": 39841,
    "start_time": "2022-08-01T11:49:28.239Z"
   }
  ],
  "kernelspec": {
   "display_name": "Python 3 (ipykernel)",
   "language": "python",
   "name": "python3"
  },
  "language_info": {
   "codemirror_mode": {
    "name": "ipython",
    "version": 3
   },
   "file_extension": ".py",
   "mimetype": "text/x-python",
   "name": "python",
   "nbconvert_exporter": "python",
   "pygments_lexer": "ipython3",
   "version": "3.9.12"
  },
  "toc": {
   "base_numbering": 1,
   "nav_menu": {},
   "number_sections": true,
   "sideBar": true,
   "skip_h1_title": true,
   "title_cell": "Содержание",
   "title_sidebar": "Contents",
   "toc_cell": true,
   "toc_position": {
    "height": "calc(100% - 180px)",
    "left": "10px",
    "top": "150px",
    "width": "302.391px"
   },
   "toc_section_display": true,
   "toc_window_display": false
  }
 },
 "nbformat": 4,
 "nbformat_minor": 2
}
